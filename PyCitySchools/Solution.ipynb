{
 "cells": [
  {
   "cell_type": "code",
   "execution_count": null,
   "metadata": {},
   "outputs": [],
   "source": []
  }
 ],
 "metadata": {
  "kernelspec": {
   "display_name": "base",
   "language": "python",
   "name": "python3"
  },
  "language_info": {
   "name": "python",
   "version": "3.9.13"
  },
  "orig_nbformat": 4,
  "vscode": {
   "interpreter": {
    "hash": "60c67f5db972e0d6109fd3e9d7bc15a3b3ebd277c0e6f7069fd76da211f5f4fd"
   }
  }
 },
 "nbformat": 4,
 "nbformat_minor": 2
}
